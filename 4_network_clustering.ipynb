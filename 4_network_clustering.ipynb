{
 "cells": [
  {
   "cell_type": "code",
   "execution_count": null,
   "metadata": {},
   "outputs": [],
   "source": [
    "import nibabel as nib\n",
    "import pandas as pd\n",
    "import numpy as np\n",
    "import community as louvain\n",
    "import matplotlib.cm as cm\n",
    "import matplotlib.pyplot as plt\n",
    "import networkx as nx\n",
    "from itertools import combinations\n",
    "\n",
    "labels = list(nib.load('/Users/SEAlab/Documents/PPM/Data/1196_All_Timepoints/Merged_rest_Atlas_rescaled.GORDparcel.32k_fs_LR.pconn.nii').header.get_axis(0).name)\n",
    "conn_map = nib.load('/Users/SEAlab/Documents/PPM/Data/1196_All_Timepoints/Merged_rest_Atlas_rescaled.GORDparcel.32k_fs_LR.pconn.nii').get_fdata()\n",
    "conn_df = pd.DataFrame(conn_map, columns=labels, index=labels)\n",
    "\n",
    "cifti_parcels = '/Users/SEAlab/Documents/PPM/Data/Gordon333_FreesurferSubcortical.32k_fs_LR.dlabel.nii'\n",
    "\n",
    "iterations = 10\n",
    "density_range = [0.001, 0.1, 0.2, 0.3, 0.4, 0.05] # top percentage to keep\n",
    "\n",
    "# Green‐Armytage, Paul. (2010). A Colour Alphabet and the Limits of Colour Coding. Color: Design & Creativity. 5. 1-23. \n",
    "kelly_colors = dict(vivid_yellow=(255, 179, 0),\n",
    "                    strong_purple=(128, 62, 117),\n",
    "                    vivid_orange=(255, 104, 0),\n",
    "                    very_light_blue=(166, 189, 215),\n",
    "                    vivid_red=(193, 0, 32),\n",
    "                    grayish_yellow=(206, 162, 98),\n",
    "                    medium_gray=(129, 112, 102),\n",
    "                    vivid_green=(0, 125, 52),\n",
    "                    strong_purplish_pink=(246, 118, 142),\n",
    "                    strong_blue=(0, 83, 138),\n",
    "                    strong_yellowish_pink=(255, 122, 92),\n",
    "                    strong_violet=(83, 55, 122),\n",
    "                    vivid_orange_yellow=(255, 142, 0),\n",
    "                    strong_purplish_red=(179, 40, 81),\n",
    "                    vivid_greenish_yellow=(244, 200, 0),\n",
    "                    strong_reddish_brown=(127, 24, 13),\n",
    "                    vivid_yellowish_green=(147, 170, 0),\n",
    "                    deep_yellowish_brown=(89, 51, 21),\n",
    "                    vivid_reddish_orange=(241, 58, 19),\n",
    "                    dark_olive_green=(35, 44, 22))"
   ]
  },
  {
   "cell_type": "markdown",
   "metadata": {},
   "source": [
    "## Community Detection"
   ]
  },
  {
   "cell_type": "code",
   "execution_count": null,
   "metadata": {},
   "outputs": [],
   "source": [
    "# functions\n",
    "\n",
    "def threshold_map(conn_df, thresh):\n",
    "    thresh = 1-thresh\n",
    "    mask = np.triu(np.ones(conn_df.shape)).astype(bool)\n",
    "    conn_df.mask(mask, np.nan, inplace=True)\n",
    "    quant = np.quantile(conn_df.to_numpy()[np.isfinite(conn_df.to_numpy())], q=thresh)\n",
    "    thresholded_conn_df = conn_df[conn_df>=quant]    \n",
    "    thresholded_conn_df.fillna(0, inplace=True)\n",
    "    return(thresholded_conn_df)\n",
    "\n",
    "def adj_to_edgelist(map_df):\n",
    "    from itertools import combinations\n",
    "    labels = map_df.columns\n",
    "    combs = list(combinations(labels, 2))\n",
    "    edge_list = []\n",
    "    for c in combs:\n",
    "        if map_df.loc[c[0],c[1]] > 0:\n",
    "            edge_list.append(c)\n",
    "        elif map_df.loc[c[1],c[0]] > 0:\n",
    "            edge_list.append(c)\n",
    "    return(edge_list)\n",
    "\n",
    "def create_graph(node_list, edge_list):\n",
    "    graph = nx.Graph()\n",
    "    graph.add_nodes_from(node_list)\n",
    "    graph.add_edges_from(edge_list)\n",
    "    return(graph)\n",
    "\n",
    "def louvain_comm_detection(graph, iterations):\n",
    "    communities = pd.DataFrame(columns=graph.nodes)\n",
    "    i = 0\n",
    "    while i < iterations:\n",
    "        communities.loc[i,:] = list(community_louvain.best_partition(graph, random_state=42+i).values())\n",
    "        i += 1\n",
    "    final_graph = nx.Graph()\n",
    "    final_graph.add_nodes_from(graph.nodes)\n",
    "    combs = list(combinations(graph.nodes, 2))\n",
    "    for c in combs:\n",
    "        same_net = np.mean(communities[c[0]] == communities[c[1]])\n",
    "        if same_net >= 0.8:\n",
    "            final_graph.add_edge(c[0],c[1])\n",
    "\n",
    "    final_communities = community_louvain.best_partition(final_graph, random_state=42)\n",
    "     \n",
    "    return(final_communities)\n",
    "\n",
    "def label_adj_with_nets(communities, network_labels, conn_df):\n",
    "    \n",
    "    return(network_df, net_parc_df)\n",
    "\n",
    "def label_cifti_with_nets(cifti_parcels, communities, out_file, colors = kelly_colors, network_names=None):\n",
    "    klist = list(colors.values())\n",
    "    networks = list(np.unique(list(communities.values())))\n",
    "    if network_names == None:\n",
    "        network_names = ['Network_{0}'.format(a) for a in networks]\n",
    "    \n",
    "    data = np.array(list(communities.values())).astype(int)\n",
    "    atlas = nib.load(cifti_parcels)\n",
    "    bm = atlas.header.get_axis(1)\n",
    "    label_ax = atlas.header.get_axis(0)\n",
    "    label_ax.label[0]={networks[i]:(network_names[i], klist[i]) for i in networks}\n",
    "\n",
    "    label_img = nib.cifti2.cifti2.Cifti2Image(data, (bm, label_ax))\n",
    "    nib.save(label_img, out_file)"
   ]
  },
  {
   "cell_type": "code",
   "execution_count": null,
   "metadata": {},
   "outputs": [],
   "source": [
    "# pipeline\n",
    "iterations = 5\n",
    "density = 0.05\n",
    "thresholded_conn_df = threshold_map(conn_df, density)\n",
    "edge_list = adj_to_edgelist(thresholded_conn_df)\n",
    "graph = create_graph(labels, edge_list)\n",
    "communities = louvain_comm_detection(graph, iterations)\n",
    "label_cifti_with_nets(cifti_parcels, communities, 'test_nets.dlabel.nii', colors = kelly_colors, network_names=None)"
   ]
  },
  {
   "cell_type": "markdown",
   "metadata": {},
   "source": [
    "## Infomap Community detection"
   ]
  },
  {
   "cell_type": "code",
   "execution_count": null,
   "metadata": {},
   "outputs": [],
   "source": [
    "# "
   ]
  },
  {
   "cell_type": "code",
   "execution_count": null,
   "metadata": {},
   "outputs": [],
   "source": [
    "# "
   ]
  }
 ],
 "metadata": {
  "kernelspec": {
   "display_name": "Python 3",
   "language": "python",
   "name": "python3"
  },
  "language_info": {
   "codemirror_mode": {
    "name": "ipython",
    "version": 3
   },
   "file_extension": ".py",
   "mimetype": "text/x-python",
   "name": "python",
   "nbconvert_exporter": "python",
   "pygments_lexer": "ipython3",
   "version": "3.6.9"
  }
 },
 "nbformat": 4,
 "nbformat_minor": 5
}
