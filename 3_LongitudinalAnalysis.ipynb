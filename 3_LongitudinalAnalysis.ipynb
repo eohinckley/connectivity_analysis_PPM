{
 "cells": [
  {
   "cell_type": "code",
   "execution_count": 1,
   "metadata": {},
   "outputs": [
    {
     "name": "stdout",
     "output_type": "stream",
     "text": [
      "210124-13:33:38,335 nipype.utils INFO:\n",
      "\t Running nipype version 1.4.2 (latest: 1.5.1)\n"
     ]
    }
   ],
   "source": [
    "from nipype.interfaces.io import DataSink, SelectFiles, DataGrabber, FreeSurferSource # Data i/o\n",
    "from nipype.interfaces.utility import IdentityInterface, Function     # utility\n",
    "from nipype.pipeline.engine import Node, Workflow, MapNode, JoinNode        # pypeline engine\n",
    "from pandas import DataFrame, read_csv\n",
    "\n",
    "#set output file type for FSL to NIFTI_GZ\n",
    "from nipype.interfaces.fsl.preprocess import FSLCommand\n",
    "FSLCommand.set_default_output_type('NIFTI_GZ')\n",
    "\n",
    "# MATLAB setup - Specify path to current SPM and the MATLAB's default mode\n",
    "from nipype.interfaces.matlab import MatlabCommand\n",
    "MatlabCommand.set_default_paths('~/spm12/toolbox')\n",
    "MatlabCommand.set_default_matlab_cmd(\"matlab -nodesktop -nosplash\")\n",
    "\n",
    "# Set study variables\n",
    "study_home = '/data/perlman/moochie/user_data/CamachoCat/5YOP'\n",
    "preproc_dir = study_home + '/proc/preprocessing'\n",
    "hcpproc_dir = study_home + '/proc/hcp_proc'\n",
    "output_dir = study_home + '/proc/rest_mapping'\n",
    "workflow_dir = study_home + '/workflows'\n",
    "#session_info = read_csv(study_home + '/misc/session_info.csv',index_col=None)\n",
    "#session_info = session_info.astype({'subject_id':str})\n",
    "#subject_ids = session_info['subject_id'].unique().tolist()\n",
    "#subject_ids = list(map(str,subject_ids))\n",
    "subject_ids = ['5000']\n",
    "\n",
    "proc_cores = 6 # number of cores of processing for the workflows"
   ]
  },
  {
   "cell_type": "code",
   "execution_count": null,
   "metadata": {},
   "outputs": [],
   "source": [
    "## Data handling nodes\n",
    "\n",
    "# grab data\n",
    "def pull_data(data_dict,data_label):\n",
    "    from nipype import config, logging\n",
    "    config.enable_debug_mode()\n",
    "    logging.update_logging(config)\n",
    "    from glob import glob\n",
    "    \n",
    "    file_list = glob(data_dict[data_label])\n",
    "    file_list = sorted(file_list)\n",
    "    \n",
    "    return(file_list)\n",
    "\n",
    "selectfiles = Node(Function(input_names=['data_dict','data_label'],\n",
    "                            output_names=['file_list'],\n",
    "                            function=pull_data), name='selectfiles')\n",
    "selectfiles.input.data_dict={'cortical_thickness':hcpproc_dir + '/*/MNINonLinear/fsaverage_LR32k/*.thickness.32k_fs_LR.dscalar.nii',\n",
    "                             'functional_connectivity':}\n",
    "\n",
    "# sink data\n",
    "substitutions = []\n",
    "datasink = Node(DataSink(),name='datasink')\n",
    "datasink.inputs.base_directory = output_dir\n",
    "datasink.inputs.container = output_dir\n",
    "datasink.inputs.substitutions = substitutions"
   ]
  },
  {
   "cell_type": "code",
   "execution_count": null,
   "metadata": {},
   "outputs": [],
   "source": [
    "# create index for cifti file\n",
    "def create_indexing(file_list,n_partitions):\n",
    "    \n",
    "    return(indexes_list)\n",
    "\n",
    "# pull data from the same slice for each file\n",
    "def agg_data(file_list,index):\n",
    "    \n",
    "    return(data_stack)\n",
    "\n",
    "# run models on data\n",
    "def run_long_models(model,model_formula,data_stack,covariates):\n",
    "    \n",
    "    return(p_slice,beta_slice,t_slice)\n",
    "\n",
    "# reconstitute the results into a cifti file\n",
    "def combine_data(stat_file_list,index_list):\n",
    "    \n",
    "    return(pval_cifti,beta_cifti, tstat_cifti)\n"
   ]
  },
  {
   "cell_type": "code",
   "execution_count": 26,
   "metadata": {},
   "outputs": [
    {
     "name": "stdout",
     "output_type": "stream",
     "text": [
      "[[2.90557408 2.68214679 2.36018586 ... 2.86991382 3.00098109 2.90266919]]\n"
     ]
    }
   ],
   "source": [
    "from glob import glob\n",
    "import nibabel as nib\n",
    "import numpy as np\n",
    "import hcp_utils as hcp\n",
    "from sklearn.utils import Bunch\n",
    "\n",
    "file_list = glob(hcpproc_dir + '/*/MNINonLinear/fsaverage_LR32k/*.thickness.32k_fs_LR.dscalar.nii')\n",
    "n_slices = 4\n",
    "\n",
    "\n",
    "img1 = nib.load(file_list[0])\n",
    "Y1 = img1.get_fdata()\n",
    "N = Y1.shape[0]\n",
    "M = Y1.shape[1]\n",
    "indexes=Bunch()\n",
    "indexes_list=[]\n",
    "\n",
    "index_labels = ['slice{0}'.format(a) for a in range(0,n_slices)]\n",
    "width = int(M/n_slices)\n",
    "start=0\n",
    "end=width\n",
    "i=0\n",
    "while end<M:\n",
    "    indexes[index_labels[i]]=slice(start,end)\n",
    "    start+=width\n",
    "    end+=width\n",
    "    i+=1\n",
    "if end-width<M:\n",
    "    indexes[index_la0bels[i]]=slice(start,M)\n",
    "if N=1:\n",
    "    \n",
    "    \n",
    "    #elif N==M:\n",
    "#else:\n",
    "    #raise('Data dimensions NxM do not match a scalar image (N=1) nor connectivity matrix (N=M). Did you link the right data?')\n",
    "    "
   ]
  },
  {
   "cell_type": "code",
   "execution_count": 30,
   "metadata": {},
   "outputs": [
    {
     "name": "stdout",
     "output_type": "stream",
     "text": [
      "{'slice0': slice(0, 14853, None), 'slice1': slice(14853, 29706, None), 'slice2': slice(29706, 44559, None), 'slice3': slice(44559, 59412, None)}\n"
     ]
    }
   ],
   "source": [
    "print(indexes)"
   ]
  }
 ],
 "metadata": {
  "kernelspec": {
   "display_name": "python3.6",
   "language": "python",
   "name": "python3"
  },
  "language_info": {
   "codemirror_mode": {
    "name": "ipython",
    "version": 3
   },
   "file_extension": ".py",
   "mimetype": "text/x-python",
   "name": "python",
   "nbconvert_exporter": "python",
   "pygments_lexer": "ipython3",
   "version": "3.8.0"
  }
 },
 "nbformat": 4,
 "nbformat_minor": 4
}
