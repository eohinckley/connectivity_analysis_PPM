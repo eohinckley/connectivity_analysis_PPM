{
 "cells": [
  {
   "cell_type": "markdown",
   "metadata": {},
   "source": [
    "# Myelin Mapping Notebook\n",
    "\n",
    "These workflows process T1 and T2 weighted images to then be used to quantify cortical myelin content per methods described in Gordon et al., 2017 (doi: 10.1016/j.neuron.2017.07.011)"
   ]
  },
  {
   "cell_type": "code",
   "execution_count": 1,
   "metadata": {},
   "outputs": [
    {
     "name": "stdout",
     "output_type": "stream",
     "text": [
      "200315-14:31:00,494 nipype.utils INFO:\n",
      "\t No new version available.\n"
     ]
    }
   ],
   "source": [
    "# Import all othe functions/nodes being used\n",
    "from nipype.pipeline.engine import Workflow, Node, MapNode\n",
    "from nipype.interfaces.utility import IdentityInterface, Function\n",
    "from nipype.interfaces.io import SelectFiles, DataSink, DataGrabber, FreeSurferSource\n",
    "from nipype.interfaces.fsl import FSLCommand, BET, Reorient2Std, FAST, FLIRT\n",
    "from nipype.interfaces.freesurfer import BBRegister, Binarize, ReconAll, MRIConvert\n",
    "from nipype.interfaces.ants import N4BiasFieldCorrection\n",
    "from pandas import read_csv\n",
    "\n",
    "# Declare study-specific variables\n",
    "setup='Cat'\n",
    "\n",
    "if setup=='Jay':\n",
    "    study_home = '/Users/dendrite/Desktop/Jay'\n",
    "    raw_data = study_home + '/raw'\n",
    "elif setup=='Cat':\n",
    "    study_home = '/data/perlman/moochie/user_data/CamachoCat/5YOP'\n",
    "    raw_data = '/data/perlman/moochie/study_data/5YOP/MRI_processing'\n",
    "    temp_fs_dir = '/home/usr/camachoc/Documents/5YOP/freesurfer'\n",
    "    \n",
    "output_dir = study_home + '/proc'\n",
    "workflow_dir = study_home + '/workflows'\n",
    "fs_dir = study_home + '/freesurfer'\n",
    "\n",
    "subject_ids = ['3000','4000']\n",
    "\n",
    "# Set any processing settings\n",
    "FSLCommand.set_default_output_type('NIFTI_GZ')"
   ]
  },
  {
   "cell_type": "code",
   "execution_count": 2,
   "metadata": {},
   "outputs": [],
   "source": [
    "# Identity node- select subjects\n",
    "infosource = Node(IdentityInterface(fields=['subject_id']),\n",
    "                     name='infosource')\n",
    "infosource.iterables = ('subject_id', subject_ids)\n",
    "\n",
    "# Selectfiles node to grab subject T2w data\n",
    "t2w_templates = {'T2anat': raw_data + '/{subject_id}/ANAT_NIFTIS/t2w_2.nii.gz'}\n",
    "t2w_source = Node(SelectFiles(t2w_templates), name='t2w_source')\n",
    "\n",
    "# datasink node\n",
    "datasink = Node(DataSink(base_directory=output_dir), name='datasink')"
   ]
  },
  {
   "cell_type": "markdown",
   "metadata": {},
   "source": [
    "## Preprocess T1w data"
   ]
  },
  {
   "cell_type": "code",
   "execution_count": null,
   "metadata": {},
   "outputs": [],
   "source": [
    "# grab raw T1-weighted images and process through freesurfer\n",
    "t1w_template = {'t1_anats':raw_data + '/%s/ANAT_NIFTIS/t1w_*.nii.gz'}\n",
    "t1w_source = Node(DataGrabber(base_directory = raw_data, \n",
    "                              field_template = t1w_template,\n",
    "                              template=raw_data + '/%s/ANAT_NIFTIS/t1w_*.nii.gz',\n",
    "                              sort_filelist=True,\n",
    "                              in_fields=['subject_id'],\n",
    "                              outfields=['t1_anats'],\n",
    "                              template_args={'t1_anats':[['subject_id']]}), \n",
    "                  name='t1w_source')\n",
    "\n",
    "#process through recon-all\n",
    "reconall = Node(ReconAll(directive='all',flags='-gcut',openmp=4,\n",
    "                         subjects_dir=temp_fs_dir,use_T2=True), name='reconall')"
   ]
  },
  {
   "cell_type": "code",
   "execution_count": null,
   "metadata": {},
   "outputs": [],
   "source": [
    "fs_proc = Workflow(name='freesurfer_proc_flow')\n",
    "fs_proc.connect([(infosource, t1w_source, [('subject_id','subject_id')]),\n",
    "                 (infosource, t2w_source, [('subject_id','subject_id')]),\n",
    "                 (infosource, reconall, [('subject_id','subject_id')]),\n",
    "                 (t1w_source, reconall, [('t1_anats','T1_files')]), \n",
    "                 (t2w_source, reconall, [('T2anat','T2_file')])\n",
    "                ])\n",
    "fs_proc.base_dir = workflow_dir\n",
    "fs_proc.write_graph(graph2use='flat')\n",
    "fs_proc.run('MultiProc', plugin_args={'n_procs': 10, 'memory_gb': 20})"
   ]
  },
  {
   "cell_type": "markdown",
   "metadata": {},
   "source": [
    "## Perform T2 preprocessing and compute T1/T2 ratio\n",
    "The nodes and workflow below preprocess T2-weighted images to match T1-weighted data processed externally using FreeSurfer v6.  Next, T1/T2 ration is computed on a voxel-wise basis."
   ]
  },
  {
   "cell_type": "code",
   "execution_count": 3,
   "metadata": {},
   "outputs": [],
   "source": [
    "#Function to quantify T1/T2 ratio\n",
    "def quantify_ratio(T2_nifti, T1_nifti):\n",
    "    from nibabel import load, save, Nifti1Image\n",
    "    from numpy import divide, zeros\n",
    "    from os.path import abspath\n",
    "    \n",
    "    #import images\n",
    "    t1w_img = load(T1_nifti)\n",
    "    t2w_img = load(T2_nifti)\n",
    "    t1w_data = t1w_img.get_fdata().astype(float)\n",
    "    t2w_data = t2w_img.get_fdata().astype(float)\n",
    "    \n",
    "    #calculate ratio and create new image\n",
    "    ratio_data = divide(t1w_data, t2w_data)\n",
    "    ratio_img = Nifti1Image(ratio_data, header=t1w_img.header, affine=t1w_img.affine)\n",
    "    save(ratio_img, 'ratio_image.nii.gz')\n",
    "    ratio_file = abspath('ratio_image.nii.gz')\n",
    "    return(ratio_file)"
   ]
  },
  {
   "cell_type": "code",
   "execution_count": 6,
   "metadata": {},
   "outputs": [],
   "source": [
    "# FreeSurferSource node to grab processed T1w data from freesurfer\n",
    "t1w_source = Node(FreeSurferSource(subjects_dir=fs_dir), name='t1w_source')\n",
    "\n",
    "# skullstrip the T2w using BET (FSL)\n",
    "t2strip = Node(BET(), name='t2strip')\n",
    "\n",
    "# N4 bias correction of the T2w data (ANTs)\n",
    "bias_correct = Node(N4BiasFieldCorrection(),name='bias_correct')\n",
    "\n",
    "# Reorient T2w to standard\n",
    "reorient_t2w = Node(Reorient2Std(), name='reorient_t2w')\n",
    "\n",
    "# Convert T1w from .mgz to niigz\n",
    "convertt1 = Node(MRIConvert(out_type='niigz',out_file='brain.nii.gz'), name='convertt1')\n",
    "\n",
    "# Register T2w to T1w using FreeSurfer's Boundary-Based Registration\n",
    "register = Node(BBRegister(contrast_type='t2', out_fsl_file=True, \n",
    "                           subjects_dir=fs_dir), name='register')\n",
    "\n",
    "apply_registration = Node(FLIRT(apply_xfm=True, out_file='reg_T2.nii.gz'),\n",
    "                          name='apply_registration')\n",
    "\n",
    "#Calculate T1/T2 ratio\n",
    "compute_T1T2_ratio = Node(Function(input_names=['T2_nifti','T1_nifti'],\n",
    "                                   output_names=['ratio_file'], \n",
    "                                   function=quantify_ratio), name='compute_T1T2_ratio')"
   ]
  },
  {
   "cell_type": "code",
   "execution_count": 7,
   "metadata": {
    "scrolled": true
   },
   "outputs": [
    {
     "name": "stdout",
     "output_type": "stream",
     "text": [
      "200315-14:31:49,773 nipype.workflow INFO:\n",
      "\t Workflow preprocess_t2 settings: ['check', 'execution', 'logging', 'monitoring']\n",
      "200315-14:31:49,795 nipype.workflow INFO:\n",
      "\t Running in parallel.\n",
      "200315-14:31:49,798 nipype.workflow INFO:\n",
      "\t [MultiProc] Running 0 tasks, and 4 jobs ready. Free memory (GB): 10.00/10.00, Free processors: 2/2.\n",
      "200315-14:31:49,854 nipype.workflow INFO:\n",
      "\t [Node] Setting-up \"preprocess_t2.t2w_source\" in \"/data/perlman/moochie/user_data/CamachoCat/5YOP/workflows/preprocess_t2/_subject_id_4000/t2w_source\".\n",
      "200315-14:31:49,857 nipype.workflow INFO:\n",
      "\t [Node] Setting-up \"preprocess_t2.t1w_source\" in \"/data/perlman/moochie/user_data/CamachoCat/5YOP/workflows/preprocess_t2/_subject_id_4000/t1w_source\".\n",
      "200315-14:31:49,867 nipype.workflow INFO:\n",
      "\t [Node] Running \"t2w_source\" (\"nipype.interfaces.io.SelectFiles\")\n",
      "200315-14:31:49,870 nipype.workflow INFO:\n",
      "\t [Node] Running \"t1w_source\" (\"nipype.interfaces.io.FreeSurferSource\")\n",
      "200315-14:31:49,885 nipype.workflow INFO:\n",
      "\t [Node] Finished \"preprocess_t2.t2w_source\".\n",
      "200315-14:31:49,900 nipype.workflow INFO:\n",
      "\t [Node] Finished \"preprocess_t2.t1w_source\".\n",
      "200315-14:31:51,802 nipype.workflow INFO:\n",
      "\t [Job 0] Completed (preprocess_t2.t2w_source).\n",
      "200315-14:31:51,806 nipype.workflow INFO:\n",
      "\t [Job 5] Completed (preprocess_t2.t1w_source).\n",
      "200315-14:31:51,810 nipype.workflow INFO:\n",
      "\t [MultiProc] Running 0 tasks, and 4 jobs ready. Free memory (GB): 10.00/10.00, Free processors: 2/2.\n",
      "200315-14:31:51,862 nipype.workflow INFO:\n",
      "\t [Job 1] Cached (preprocess_t2.t2strip).\n",
      "200315-14:31:51,866 nipype.workflow INFO:\n",
      "\t [Job 6] Cached (preprocess_t2.convertt1).\n",
      "200315-14:31:53,804 nipype.workflow INFO:\n",
      "\t [MultiProc] Running 0 tasks, and 3 jobs ready. Free memory (GB): 10.00/10.00, Free processors: 2/2.\n",
      "200315-14:31:53,852 nipype.workflow INFO:\n",
      "\t [Job 2] Cached (preprocess_t2.reorient_t2w).\n",
      "200315-14:31:53,856 nipype.workflow INFO:\n",
      "\t [Node] Setting-up \"preprocess_t2.t2w_source\" in \"/data/perlman/moochie/user_data/CamachoCat/5YOP/workflows/preprocess_t2/_subject_id_3000/t2w_source\".\n",
      "200315-14:31:53,866 nipype.workflow INFO:\n",
      "\t [Node] Running \"t2w_source\" (\"nipype.interfaces.io.SelectFiles\")\n",
      "200315-14:31:53,874 nipype.workflow INFO:\n",
      "\t [Node] Finished \"preprocess_t2.t2w_source\".\n",
      "200315-14:31:55,805 nipype.workflow INFO:\n",
      "\t [Job 10] Completed (preprocess_t2.t2w_source).\n",
      "200315-14:31:55,810 nipype.workflow INFO:\n",
      "\t [MultiProc] Running 0 tasks, and 3 jobs ready. Free memory (GB): 10.00/10.00, Free processors: 2/2.\n",
      "200315-14:31:55,855 nipype.workflow INFO:\n",
      "\t [Job 3] Cached (preprocess_t2.bias_correct).\n",
      "200315-14:31:55,858 nipype.workflow INFO:\n",
      "\t [Job 11] Cached (preprocess_t2.t2strip).\n",
      "200315-14:31:57,851 nipype.workflow INFO:\n",
      "\t [Job 4] Cached (preprocess_t2.register).\n",
      "200315-14:31:57,854 nipype.workflow INFO:\n",
      "\t [Job 12] Cached (preprocess_t2.reorient_t2w).\n",
      "200315-14:31:59,860 nipype.workflow INFO:\n",
      "\t [Job 7] Cached (preprocess_t2.apply_registration).\n",
      "200315-14:31:59,863 nipype.workflow INFO:\n",
      "\t [Job 13] Cached (preprocess_t2.bias_correct).\n",
      "200315-14:32:01,865 nipype.workflow INFO:\n",
      "\t [Job 14] Cached (preprocess_t2.register).\n",
      "200315-14:32:01,864 nipype.workflow INFO:\n",
      "\t [Node] Setting-up \"preprocess_t2.compute_T1T2_ratio\" in \"/data/perlman/moochie/user_data/CamachoCat/5YOP/workflows/preprocess_t2/_subject_id_4000/compute_T1T2_ratio\".\n",
      "200315-14:32:01,878 nipype.workflow INFO:\n",
      "\t [Node] Running \"compute_T1T2_ratio\" (\"nipype.interfaces.utility.wrappers.Function\")\n"
     ]
    },
    {
     "name": "stderr",
     "output_type": "stream",
     "text": [
      "<string>:13: RuntimeWarning: divide by zero encountered in true_divide\n",
      "<string>:13: RuntimeWarning: invalid value encountered in true_divide\n"
     ]
    },
    {
     "name": "stdout",
     "output_type": "stream",
     "text": [
      "200315-14:32:02,533 nipype.workflow INFO:\n",
      "\t [Node] Finished \"preprocess_t2.compute_T1T2_ratio\".\n",
      "200315-14:32:03,814 nipype.workflow INFO:\n",
      "\t [Job 8] Completed (preprocess_t2.compute_T1T2_ratio).\n",
      "200315-14:32:03,818 nipype.workflow INFO:\n",
      "\t [MultiProc] Running 0 tasks, and 2 jobs ready. Free memory (GB): 10.00/10.00, Free processors: 2/2.\n",
      "200315-14:32:03,865 nipype.workflow INFO:\n",
      "\t [Node] Setting-up \"preprocess_t2.datasink\" in \"/data/perlman/moochie/user_data/CamachoCat/5YOP/workflows/preprocess_t2/_subject_id_4000/datasink\".\n",
      "200315-14:32:03,865 nipype.workflow INFO:\n",
      "\t [Node] Setting-up \"preprocess_t2.t1w_source\" in \"/data/perlman/moochie/user_data/CamachoCat/5YOP/workflows/preprocess_t2/_subject_id_3000/t1w_source\".\n",
      "200315-14:32:03,875 nipype.workflow INFO:\n",
      "\t [Node] Running \"t1w_source\" (\"nipype.interfaces.io.FreeSurferSource\")\n",
      "200315-14:32:03,878 nipype.workflow INFO:\n",
      "\t [Node] Running \"datasink\" (\"nipype.interfaces.io.DataSink\")\n",
      "200315-14:32:03,893 nipype.workflow INFO:\n",
      "\t [Node] Finished \"preprocess_t2.t1w_source\".\n",
      "200315-14:32:04,38 nipype.workflow INFO:\n",
      "\t [Node] Finished \"preprocess_t2.datasink\".\n",
      "200315-14:32:05,816 nipype.workflow INFO:\n",
      "\t [Job 9] Completed (preprocess_t2.datasink).\n",
      "200315-14:32:05,819 nipype.workflow INFO:\n",
      "\t [Job 15] Completed (preprocess_t2.t1w_source).\n",
      "200315-14:32:05,823 nipype.workflow INFO:\n",
      "\t [MultiProc] Running 0 tasks, and 1 jobs ready. Free memory (GB): 10.00/10.00, Free processors: 2/2.\n",
      "200315-14:32:05,879 nipype.workflow INFO:\n",
      "\t [Job 16] Cached (preprocess_t2.convertt1).\n",
      "200315-14:32:07,870 nipype.workflow INFO:\n",
      "\t [Job 17] Cached (preprocess_t2.apply_registration).\n",
      "200315-14:32:09,866 nipype.workflow INFO:\n",
      "\t [Node] Setting-up \"preprocess_t2.compute_T1T2_ratio\" in \"/data/perlman/moochie/user_data/CamachoCat/5YOP/workflows/preprocess_t2/_subject_id_3000/compute_T1T2_ratio\".\n",
      "200315-14:32:09,879 nipype.workflow INFO:\n",
      "\t [Node] Running \"compute_T1T2_ratio\" (\"nipype.interfaces.utility.wrappers.Function\")\n"
     ]
    },
    {
     "name": "stderr",
     "output_type": "stream",
     "text": [
      "<string>:13: RuntimeWarning: divide by zero encountered in true_divide\n",
      "<string>:13: RuntimeWarning: invalid value encountered in true_divide\n"
     ]
    },
    {
     "name": "stdout",
     "output_type": "stream",
     "text": [
      "200315-14:32:10,526 nipype.workflow INFO:\n",
      "\t [Node] Finished \"preprocess_t2.compute_T1T2_ratio\".\n",
      "200315-14:32:11,822 nipype.workflow INFO:\n",
      "\t [Job 18] Completed (preprocess_t2.compute_T1T2_ratio).\n",
      "200315-14:32:11,827 nipype.workflow INFO:\n",
      "\t [MultiProc] Running 0 tasks, and 1 jobs ready. Free memory (GB): 10.00/10.00, Free processors: 2/2.\n",
      "200315-14:32:11,880 nipype.workflow INFO:\n",
      "\t [Node] Setting-up \"preprocess_t2.datasink\" in \"/data/perlman/moochie/user_data/CamachoCat/5YOP/workflows/preprocess_t2/_subject_id_3000/datasink\".\n",
      "200315-14:32:11,893 nipype.workflow INFO:\n",
      "\t [Node] Running \"datasink\" (\"nipype.interfaces.io.DataSink\")\n",
      "200315-14:32:12,41 nipype.workflow INFO:\n",
      "\t [Node] Finished \"preprocess_t2.datasink\".\n",
      "200315-14:32:13,824 nipype.workflow INFO:\n",
      "\t [Job 19] Completed (preprocess_t2.datasink).\n",
      "200315-14:32:13,827 nipype.workflow INFO:\n",
      "\t [MultiProc] Running 0 tasks, and 0 jobs ready. Free memory (GB): 10.00/10.00, Free processors: 2/2.\n"
     ]
    },
    {
     "data": {
      "text/plain": [
       "<networkx.classes.digraph.DiGraph at 0x7f96c868fd60>"
      ]
     },
     "execution_count": 7,
     "metadata": {},
     "output_type": "execute_result"
    }
   ],
   "source": [
    "# Write the workflow\n",
    "preprocess_t2 = Workflow(name='preprocess_t2')\n",
    "preprocess_t2.connect([(infosource, t1w_source, [('subject_id','subject_id')]),\n",
    "                       (t1w_source, convertt1, [('brain','in_file')]),\n",
    "                       (convertt1, compute_T1T2_ratio, [('out_file','T1_nifti')]),\n",
    "                       (infosource, t2w_source, [('subject_id','subject_id')]),\n",
    "                       (infosource, register, [('subject_id','subject_id')]),\n",
    "                       (t2w_source, t2strip,[('T2anat','in_file')]),\n",
    "                       (t2strip, reorient_t2w,[('out_file','in_file')]),\n",
    "                       (reorient_t2w, bias_correct,[('out_file','input_image')]),\n",
    "                       (bias_correct, register,[('output_image','source_file')]),\n",
    "                       \n",
    "                       (bias_correct,apply_registration,[('output_image','in_file')]),\n",
    "                       (convertt1, apply_registration, [('out_file','reference')]),\n",
    "                       (register, apply_registration, [('out_fsl_file','in_matrix_file')]),\n",
    "                       (apply_registration, compute_T1T2_ratio,[('out_file','T2_nifti')]),\n",
    "                       \n",
    "                       (compute_T1T2_ratio, datasink, [('ratio_file','t1_t2_ratio')]),\n",
    "                       (t2strip, datasink,[('out_file','skullstripped_t2w')]),\n",
    "                       (apply_registration, datasink,[('out_file','registered_t2w')])\n",
    "                       ])\n",
    "\n",
    "preprocess_t2.base_dir = workflow_dir\n",
    "#preprocess_t2.write_graph(graph2use='flat')\n",
    "preprocess_t2.run('MultiProc', plugin_args={'n_procs': 2, 'memory_gb': 10})"
   ]
  },
  {
   "cell_type": "code",
   "execution_count": null,
   "metadata": {},
   "outputs": [],
   "source": []
  },
  {
   "cell_type": "code",
   "execution_count": null,
   "metadata": {},
   "outputs": [],
   "source": []
  }
 ],
 "metadata": {
  "kernelspec": {
   "display_name": "Python3.8",
   "language": "python",
   "name": "python3.8"
  },
  "language_info": {
   "codemirror_mode": {
    "name": "ipython",
    "version": 3
   },
   "file_extension": ".py",
   "mimetype": "text/x-python",
   "name": "python",
   "nbconvert_exporter": "python",
   "pygments_lexer": "ipython3",
   "version": "3.8.0"
  }
 },
 "nbformat": 4,
 "nbformat_minor": 4
}
